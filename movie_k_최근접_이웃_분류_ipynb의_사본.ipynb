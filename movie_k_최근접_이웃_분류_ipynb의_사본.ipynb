{
  "nbformat": 4,
  "nbformat_minor": 0,
  "metadata": {
    "colab": {
      "provenance": []
    },
    "kernelspec": {
      "name": "python3",
      "display_name": "Python 3"
    },
    "language_info": {
      "name": "python"
    }
  },
  "cells": [
    {
      "cell_type": "code",
      "execution_count": null,
      "metadata": {
        "id": "VDkl1AvPAKJQ",
        "colab": {
          "base_uri": "https://localhost:8080/",
          "height": 77
        },
        "outputId": "acb7b318-15a2-4d52-f478-3a5261d383a1"
      },
      "outputs": [
        {
          "output_type": "display_data",
          "data": {
            "text/plain": [
              "<IPython.core.display.HTML object>"
            ],
            "text/html": [
              "\n",
              "     <input type=\"file\" id=\"files-490066f5-4650-4e9a-a0b0-e5170addde2d\" name=\"files[]\" multiple disabled\n",
              "        style=\"border:none\" />\n",
              "     <output id=\"result-490066f5-4650-4e9a-a0b0-e5170addde2d\">\n",
              "      Upload widget is only available when the cell has been executed in the\n",
              "      current browser session. Please rerun this cell to enable.\n",
              "      </output>\n",
              "      <script>// Copyright 2017 Google LLC\n",
              "//\n",
              "// Licensed under the Apache License, Version 2.0 (the \"License\");\n",
              "// you may not use this file except in compliance with the License.\n",
              "// You may obtain a copy of the License at\n",
              "//\n",
              "//      http://www.apache.org/licenses/LICENSE-2.0\n",
              "//\n",
              "// Unless required by applicable law or agreed to in writing, software\n",
              "// distributed under the License is distributed on an \"AS IS\" BASIS,\n",
              "// WITHOUT WARRANTIES OR CONDITIONS OF ANY KIND, either express or implied.\n",
              "// See the License for the specific language governing permissions and\n",
              "// limitations under the License.\n",
              "\n",
              "/**\n",
              " * @fileoverview Helpers for google.colab Python module.\n",
              " */\n",
              "(function(scope) {\n",
              "function span(text, styleAttributes = {}) {\n",
              "  const element = document.createElement('span');\n",
              "  element.textContent = text;\n",
              "  for (const key of Object.keys(styleAttributes)) {\n",
              "    element.style[key] = styleAttributes[key];\n",
              "  }\n",
              "  return element;\n",
              "}\n",
              "\n",
              "// Max number of bytes which will be uploaded at a time.\n",
              "const MAX_PAYLOAD_SIZE = 100 * 1024;\n",
              "\n",
              "function _uploadFiles(inputId, outputId) {\n",
              "  const steps = uploadFilesStep(inputId, outputId);\n",
              "  const outputElement = document.getElementById(outputId);\n",
              "  // Cache steps on the outputElement to make it available for the next call\n",
              "  // to uploadFilesContinue from Python.\n",
              "  outputElement.steps = steps;\n",
              "\n",
              "  return _uploadFilesContinue(outputId);\n",
              "}\n",
              "\n",
              "// This is roughly an async generator (not supported in the browser yet),\n",
              "// where there are multiple asynchronous steps and the Python side is going\n",
              "// to poll for completion of each step.\n",
              "// This uses a Promise to block the python side on completion of each step,\n",
              "// then passes the result of the previous step as the input to the next step.\n",
              "function _uploadFilesContinue(outputId) {\n",
              "  const outputElement = document.getElementById(outputId);\n",
              "  const steps = outputElement.steps;\n",
              "\n",
              "  const next = steps.next(outputElement.lastPromiseValue);\n",
              "  return Promise.resolve(next.value.promise).then((value) => {\n",
              "    // Cache the last promise value to make it available to the next\n",
              "    // step of the generator.\n",
              "    outputElement.lastPromiseValue = value;\n",
              "    return next.value.response;\n",
              "  });\n",
              "}\n",
              "\n",
              "/**\n",
              " * Generator function which is called between each async step of the upload\n",
              " * process.\n",
              " * @param {string} inputId Element ID of the input file picker element.\n",
              " * @param {string} outputId Element ID of the output display.\n",
              " * @return {!Iterable<!Object>} Iterable of next steps.\n",
              " */\n",
              "function* uploadFilesStep(inputId, outputId) {\n",
              "  const inputElement = document.getElementById(inputId);\n",
              "  inputElement.disabled = false;\n",
              "\n",
              "  const outputElement = document.getElementById(outputId);\n",
              "  outputElement.innerHTML = '';\n",
              "\n",
              "  const pickedPromise = new Promise((resolve) => {\n",
              "    inputElement.addEventListener('change', (e) => {\n",
              "      resolve(e.target.files);\n",
              "    });\n",
              "  });\n",
              "\n",
              "  const cancel = document.createElement('button');\n",
              "  inputElement.parentElement.appendChild(cancel);\n",
              "  cancel.textContent = 'Cancel upload';\n",
              "  const cancelPromise = new Promise((resolve) => {\n",
              "    cancel.onclick = () => {\n",
              "      resolve(null);\n",
              "    };\n",
              "  });\n",
              "\n",
              "  // Wait for the user to pick the files.\n",
              "  const files = yield {\n",
              "    promise: Promise.race([pickedPromise, cancelPromise]),\n",
              "    response: {\n",
              "      action: 'starting',\n",
              "    }\n",
              "  };\n",
              "\n",
              "  cancel.remove();\n",
              "\n",
              "  // Disable the input element since further picks are not allowed.\n",
              "  inputElement.disabled = true;\n",
              "\n",
              "  if (!files) {\n",
              "    return {\n",
              "      response: {\n",
              "        action: 'complete',\n",
              "      }\n",
              "    };\n",
              "  }\n",
              "\n",
              "  for (const file of files) {\n",
              "    const li = document.createElement('li');\n",
              "    li.append(span(file.name, {fontWeight: 'bold'}));\n",
              "    li.append(span(\n",
              "        `(${file.type || 'n/a'}) - ${file.size} bytes, ` +\n",
              "        `last modified: ${\n",
              "            file.lastModifiedDate ? file.lastModifiedDate.toLocaleDateString() :\n",
              "                                    'n/a'} - `));\n",
              "    const percent = span('0% done');\n",
              "    li.appendChild(percent);\n",
              "\n",
              "    outputElement.appendChild(li);\n",
              "\n",
              "    const fileDataPromise = new Promise((resolve) => {\n",
              "      const reader = new FileReader();\n",
              "      reader.onload = (e) => {\n",
              "        resolve(e.target.result);\n",
              "      };\n",
              "      reader.readAsArrayBuffer(file);\n",
              "    });\n",
              "    // Wait for the data to be ready.\n",
              "    let fileData = yield {\n",
              "      promise: fileDataPromise,\n",
              "      response: {\n",
              "        action: 'continue',\n",
              "      }\n",
              "    };\n",
              "\n",
              "    // Use a chunked sending to avoid message size limits. See b/62115660.\n",
              "    let position = 0;\n",
              "    do {\n",
              "      const length = Math.min(fileData.byteLength - position, MAX_PAYLOAD_SIZE);\n",
              "      const chunk = new Uint8Array(fileData, position, length);\n",
              "      position += length;\n",
              "\n",
              "      const base64 = btoa(String.fromCharCode.apply(null, chunk));\n",
              "      yield {\n",
              "        response: {\n",
              "          action: 'append',\n",
              "          file: file.name,\n",
              "          data: base64,\n",
              "        },\n",
              "      };\n",
              "\n",
              "      let percentDone = fileData.byteLength === 0 ?\n",
              "          100 :\n",
              "          Math.round((position / fileData.byteLength) * 100);\n",
              "      percent.textContent = `${percentDone}% done`;\n",
              "\n",
              "    } while (position < fileData.byteLength);\n",
              "  }\n",
              "\n",
              "  // All done.\n",
              "  yield {\n",
              "    response: {\n",
              "      action: 'complete',\n",
              "    }\n",
              "  };\n",
              "}\n",
              "\n",
              "scope.google = scope.google || {};\n",
              "scope.google.colab = scope.google.colab || {};\n",
              "scope.google.colab._files = {\n",
              "  _uploadFiles,\n",
              "  _uploadFilesContinue,\n",
              "};\n",
              "})(self);\n",
              "</script> "
            ]
          },
          "metadata": {}
        },
        {
          "output_type": "stream",
          "name": "stdout",
          "text": [
            "Saving movies_train.csv to movies_train.csv\n"
          ]
        }
      ],
      "source": [
        "from google.colab import files\n",
        "train_movie = files.upload()"
      ]
    },
    {
      "cell_type": "code",
      "source": [
        "import pandas as pd\n",
        "df = pd.read_csv('/content/movies_train.csv')\n",
        "# type(df)"
      ],
      "metadata": {
        "id": "ZKMmC9rFAMl-"
      },
      "execution_count": null,
      "outputs": []
    },
    {
      "cell_type": "code",
      "source": [
        "from numpy.core.fromnumeric import mean\n",
        "#평균 계산\n",
        "box_mean = mean(df.box_off_num)\n",
        "\n",
        "# 개선후_df_high와 df_low\n",
        "df_over_mean = df[(df[\"box_off_num\"]>=box_mean)]\n",
        "df_lower_mean = df[(df[\"box_off_num\"]<=box_mean)]\n",
        "df_high = df_over_mean.iloc[:df_over_mean.shape[0],9:12] #높은 관객수 (샘플 30, 내림차순)\n",
        "df_low = df_lower_mean.iloc[:df_lower_mean.shape[0], 9:12] # 낮은 관객수 (샘플 30, 오름차순)\n",
        "\n",
        "# 개선전_df_high와 df_low\n",
        "# data_size = df.shape[0]\n",
        "# df_high = (df.sort_values(by = \"box_off_num\", ascending = False)).iloc[:data_size,9:12] #높은 관객수 (샘플 30, 내림차순)\n",
        "# df_low = (df.sort_values(by = \"box_off_num\", ascending = True)).iloc[:data_size,9:12] # 낮은 관객수 (샘플 30, 오름차순)\n",
        "# df_high.shape\n",
        "# df_low"
      ],
      "metadata": {
        "id": "LDhDrxsfsrht"
      },
      "execution_count": null,
      "outputs": []
    },
    {
      "cell_type": "code",
      "source": [
        "#staff, actor list 만들기\n",
        "import numpy as np\n",
        "high_staff = df_high.num_staff[:]\n",
        "high_actor = df_high.num_actor[:]\n",
        "low_staff = df_low.num_staff[:]\n",
        "low_actor = df_low.num_actor[:]\n",
        "# actor_num = df.num_actor[1:50]\n",
        "high_staff_list = high_staff.tolist()\n",
        "high_actor_list = high_actor.tolist()\n",
        "low_staff_list = low_staff.tolist()\n",
        "low_actor_list = low_actor.tolist()\n",
        "# type(staff_num_list)\n",
        "# type(actor_num_list)\n",
        "# high_staff_list"
      ],
      "metadata": {
        "id": "QalgB49WEo4R"
      },
      "execution_count": null,
      "outputs": []
    },
    {
      "cell_type": "code",
      "source": [
        "#/2차원 배열로 만들기\n",
        "high_data = np.column_stack((high_staff_list,high_actor_list))\n",
        "# high_data\n",
        "low_data = np.column_stack((low_staff_list,low_actor_list))\n",
        "# low_data\n",
        "\n",
        "# movie_input - [[staff_num, actor_num],] : 높은 관객 수 50 샘플, 낮은 관객 수 50 샘플 -> input data\n",
        "movie_input = np.concatenate((high_data, low_data))"
      ],
      "metadata": {
        "id": "6eDmWzHNFd1E"
      },
      "execution_count": null,
      "outputs": []
    },
    {
      "cell_type": "code",
      "source": [
        "#타깃 생성 (50) : 높은 관객 수가 예측되면 1, 낮은 관객수가 예측되면 0\n",
        "# ex) fish_target = np.concatenate((np.ones(35), np.zeros(14)))\n",
        "movie_target =  np.concatenate((np.ones(df_over_mean.shape[0]), np.zeros(df_lower_mean.shape[0]))) #-> target data\n",
        "\n",
        "# movie_target.shape"
      ],
      "metadata": {
        "id": "F8TqYHiEtNqj"
      },
      "execution_count": null,
      "outputs": []
    },
    {
      "cell_type": "code",
      "source": [
        "#input data와 target data 합치기\n",
        "movie_data = np.column_stack((movie_input, movie_target))\n",
        "# movie_data"
      ],
      "metadata": {
        "id": "vRPsTr2RFZmY"
      },
      "execution_count": null,
      "outputs": []
    },
    {
      "cell_type": "code",
      "source": [
        "from sklearn.model_selection import train_test_split\n",
        "#훈련세트 테스트세트 나누기\n",
        "train_input, test_input, train_target, test_target = train_test_split(\n",
        "    movie_input, movie_target, stratify=movie_target, random_state=df_over_mean.shape[0])\n",
        "# train_input\n",
        "# test_input"
      ],
      "metadata": {
        "id": "9GXoBWSOxDU2"
      },
      "execution_count": null,
      "outputs": []
    },
    {
      "cell_type": "code",
      "source": [
        "#scale 처리 <- actor에 배해 staff의 범위가 크므로, 스케일 처리 필요\n",
        "mean = np.mean(train_input, axis=0)\n",
        "std = np.std(train_input, axis=0)\n",
        "\n",
        "train_scaled = (train_input - mean) / std\n",
        "test_scaled = (test_input - mean) / std"
      ],
      "metadata": {
        "id": "sjeVPs0F98HI"
      },
      "execution_count": null,
      "outputs": []
    },
    {
      "cell_type": "markdown",
      "source": [
        "1. k-최근접 이웃 분류 : 스탭 수와 배우 수를 주면 관객수가 높은지 낮은지 분류**\n",
        "2. k-최근접 이웃 회귀 : 스탭 수와 배우 수를 주면 관객수를 예측하는 모델"
      ],
      "metadata": {
        "id": "jPj6CyhasBYS"
      }
    },
    {
      "cell_type": "code",
      "source": [
        "from sklearn.neighbors import KNeighborsClassifier\n",
        "\n",
        "kn = KNeighborsClassifier()\n",
        "kn.fit(train_scaled, train_target)\n",
        "train_score = kn.score(train_scaled, train_target)\n",
        "test_score = kn.score(test_scaled, test_target)\n",
        "# new = [200, 0]\n",
        "# print(kn.predict([new]))"
      ],
      "metadata": {
        "id": "kdTJ15b_xiyj"
      },
      "execution_count": null,
      "outputs": []
    },
    {
      "cell_type": "code",
      "source": [
        "train_score * 100"
      ],
      "metadata": {
        "colab": {
          "base_uri": "https://localhost:8080/"
        },
        "id": "K_GZ4dAc_APk",
        "outputId": "ea4f684d-fa3b-47f8-b34b-459dd952eb64"
      },
      "execution_count": null,
      "outputs": [
        {
          "output_type": "execute_result",
          "data": {
            "text/plain": [
              "88.88888888888889"
            ]
          },
          "metadata": {},
          "execution_count": 13
        }
      ]
    },
    {
      "cell_type": "code",
      "source": [
        "test_score * 100"
      ],
      "metadata": {
        "colab": {
          "base_uri": "https://localhost:8080/"
        },
        "id": "UHNa5c0s_Crd",
        "outputId": "0bcfeab1-16b7-4faf-bd2e-dcc6bb2fc99e"
      },
      "execution_count": null,
      "outputs": [
        {
          "output_type": "execute_result",
          "data": {
            "text/plain": [
              "83.33333333333334"
            ]
          },
          "metadata": {},
          "execution_count": 14
        }
      ]
    }
  ]
}